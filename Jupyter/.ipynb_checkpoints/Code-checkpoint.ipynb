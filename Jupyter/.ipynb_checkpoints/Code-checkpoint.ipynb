{
 "cells": [
  {
   "cell_type": "markdown",
   "id": "86781c98",
   "metadata": {},
   "source": [
    "Credits:\n",
    "- https://www.youtube.com/watch?v=N6Su4Hk8_-g (PyPDF2)\n",
    "- https://www.youtube.com/watch?v=MjY7UUSAqqE&t=298s (pdfplumber)"
   ]
  },
  {
   "cell_type": "code",
   "execution_count": 1,
   "id": "5475a857",
   "metadata": {},
   "outputs": [],
   "source": [
    "import PyPDF2 # For numPages\n",
    "import requests\n",
    "import pdfplumber\n",
    "from datetime import date"
   ]
  },
  {
   "cell_type": "code",
   "execution_count": 2,
   "id": "4c164edd",
   "metadata": {},
   "outputs": [
    {
     "name": "stdout",
     "output_type": "stream",
     "text": [
      "There are 10 pages in this pdf\n"
     ]
    }
   ],
   "source": [
    "file = open(\"../../sampleFinancialStatements/sample1.pdf\", \"rb\")\n",
    "pdf = pdfplumber.open(file)\n",
    "reader = PyPDF2.PdfFileReader(file)\n",
    "numPages = reader.numPages\n",
    "print(\"There are {} pages in this pdf\".format(numPages))"
   ]
  },
  {
   "cell_type": "markdown",
   "id": "fa949711",
   "metadata": {},
   "source": [
    "### Function to calculate the change in percentage %"
   ]
  },
  {
   "cell_type": "code",
   "execution_count": 3,
   "id": "8e5db031",
   "metadata": {},
   "outputs": [],
   "source": [
    "# Return the change in percentage %\n",
    "\n",
    "def calculateChange(oldVal, newVal):\n",
    "    return (newVal - oldVal) / oldVal * 100"
   ]
  },
  {
   "cell_type": "markdown",
   "id": "f90180d1",
   "metadata": {},
   "source": [
    "### Function to convert a string with brackets and commas to a float"
   ]
  },
  {
   "cell_type": "code",
   "execution_count": 4,
   "id": "d4cc7626",
   "metadata": {},
   "outputs": [],
   "source": [
    "# Return float\n",
    "\n",
    "def becomeNumber(string):\n",
    "    thingsToReplace = [',', '(', ')']\n",
    "    \n",
    "    for i in thingsToReplace:\n",
    "        string = string.replace(i, '')\n",
    "        \n",
    "    return float(string)"
   ]
  },
  {
   "cell_type": "markdown",
   "id": "388e80c0",
   "metadata": {},
   "source": [
    "Idea is to:\n",
    "- Convert the pdf page into string for further processing\n",
    "- From the string, we identify the keywords\n",
    "- Get the values associated with the keywords (mindful of the years, whether the new comes first or the old)\n",
    "- Calculate the change and %\n",
    "- Come out with the MD&A Draft text"
   ]
  },
  {
   "cell_type": "code",
   "execution_count": 5,
   "id": "81b2c445",
   "metadata": {},
   "outputs": [
    {
     "name": "stdout",
     "output_type": "stream",
     "text": [
      "Please enter the keyword to look for (Not caps-sensitive) sTaFf\n"
     ]
    }
   ],
   "source": [
    "keyWord = input(\"Please enter the keyword to look for (Not caps-sensitive) \").lower()"
   ]
  },
  {
   "cell_type": "markdown",
   "id": "857e5382",
   "metadata": {},
   "source": [
    "Still need to do:\n",
    "- If mulitple rows starts with the same keyWord, then it would be wrong\n",
    "- Following example is assuming oldVal is the most right value, and the newVal is the one left of it, possible like page 9 of sample1.pdf, where there are 4 values instead\n",
    "    - Likewise for the year detection in the heading\n",
    "- Able to decide the time period based on the heading\n",
    "    - To see which values come first\n",
    "    - And also the criteria of \"three period-to-period comparisons\"\n",
    "- Able to get the 'units' of the money in the financial statements (is it in millions?)\n",
    "    - In the sample1.pdf case, it would be '000 for staff costs\n",
    "- Get the reasons of the change\n",
    "- If for example is transportation expenses, do we need to auto find expenses such as \"bus\", \"grab\", etc?"
   ]
  },
  {
   "cell_type": "code",
   "execution_count": 6,
   "id": "935a60e8",
   "metadata": {
    "scrolled": false
   },
   "outputs": [
    {
     "name": "stdout",
     "output_type": "stream",
     "text": [
      "Our staff expenses increased by 4.81% to S$[1432889.0] in the [2014], from S$[1367077.0] in the [2013], as a result of [company to provide reason].\n"
     ]
    }
   ],
   "source": [
    "# If found = 1, means found the keyWord in PDF, if found = 0, means cannot find keyWord in PDF, need key in a new keyWord again\n",
    "found = 0\n",
    "possibleYears = range(1900, date.today().year + 1)\n",
    "years = []     # years will contain the heading of the years of that particular page where keyWord is found, [-1] is the oldYear, [-2] is the newYear\n",
    "\n",
    "# Iterating all pages of PDF to find keyWord\n",
    "for x in range(reader.numPages):\n",
    "    pageData = pdf.pages[x]\n",
    "    text = pageData.extract_text().lower()\n",
    "#     print(text)\n",
    "    \n",
    "    # Checking if the keyword is found in a particular page\n",
    "    for row in text.split('\\n'):\n",
    "        if row.startswith(keyWord):\n",
    "            found = 1\n",
    "            \n",
    "            # Since the values of a financial statement is always the last few values\n",
    "            # Following example is assuming oldVal is the most right value, and the newVal is the one left of it\n",
    "            # Possible like page 9 of sample1.pdf, where there are 4 values instead\n",
    "            oldVal = becomeNumber(row.split()[-1])\n",
    "            newVal = becomeNumber(row.split()[-2])\n",
    "            change = calculateChange(oldVal, newVal)\n",
    "            \n",
    "            # Need to get the heading as well to know which values belongs to which year / month\n",
    "            for word in text.split():\n",
    "                try:\n",
    "                    if int(word) in possibleYears:\n",
    "                        years.append(int(word))\n",
    "                except (ValueError):\n",
    "                    continue\n",
    "            oldYear = years[-1]\n",
    "            newYear = years[-2]\n",
    "            \n",
    "            # Checking if change is positive or negative, then printing out the drafting respectively\n",
    "            # [] means need to fill in\n",
    "            if (change < 0):\n",
    "                print(\"Our {} expenses decreased by {:.2f}% to S$[{}] in the [{}], from S$[{}] in the [{}], as a result of [company to provide reason].\".format(keyWord, change, newVal, newYear, oldVal, oldYear))\n",
    "            if (change > 0):\n",
    "                print(\"Our {} expenses increased by {:.2f}% to S$[{}] in the [{}], from S$[{}] in the [{}], as a result of [company to provide reason].\".format(keyWord, change, newVal, newYear, oldVal, oldYear))\n",
    "            \n",
    "if (found == 0):\n",
    "    print(\"Please double check the keyword to look for and try again\")\n",
    "    print(quit)\n",
    "    quit()"
   ]
  }
 ],
 "metadata": {
  "kernelspec": {
   "display_name": "Python 3 (ipykernel)",
   "language": "python",
   "name": "python3"
  },
  "language_info": {
   "codemirror_mode": {
    "name": "ipython",
    "version": 3
   },
   "file_extension": ".py",
   "mimetype": "text/x-python",
   "name": "python",
   "nbconvert_exporter": "python",
   "pygments_lexer": "ipython3",
   "version": "3.8.2"
  }
 },
 "nbformat": 4,
 "nbformat_minor": 5
}
