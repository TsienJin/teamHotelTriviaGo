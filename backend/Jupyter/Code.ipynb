{
 "cells": [
  {
   "cell_type": "markdown",
   "id": "86781c98",
   "metadata": {},
   "source": [
    "Credits:\n",
    "- https://www.youtube.com/watch?v=N6Su4Hk8_-g (PyPDF2)\n",
    "- https://www.youtube.com/watch?v=MjY7UUSAqqE&t=298s (pdfplumber)"
   ]
  },
  {
   "cell_type": "code",
   "execution_count": 1,
   "id": "5475a857",
   "metadata": {},
   "outputs": [],
   "source": [
    "import PyPDF2 # For numPages\n",
    "import requests\n",
    "import pdfplumber\n",
    "from datetime import date"
   ]
  },
  {
   "cell_type": "code",
   "execution_count": 2,
   "id": "4c164edd",
   "metadata": {},
   "outputs": [
    {
     "name": "stdout",
     "output_type": "stream",
     "text": [
      "There are 93 pages in this pdf\n"
     ]
    }
   ],
   "source": [
    "file = open(\"../../sampleFinancialStatements/sample2.pdf\", \"rb\")\n",
    "pdf = pdfplumber.open(file)\n",
    "reader = PyPDF2.PdfFileReader(file)\n",
    "numPages = reader.numPages\n",
    "print(\"There are {} pages in this pdf\".format(numPages))"
   ]
  },
  {
   "cell_type": "markdown",
   "id": "fa949711",
   "metadata": {},
   "source": [
    "### Function to calculate the change in percentage %"
   ]
  },
  {
   "cell_type": "code",
   "execution_count": 3,
   "id": "8e5db031",
   "metadata": {},
   "outputs": [],
   "source": [
    "# Return the change in percentage %\n",
    "\n",
    "def calculateChange(oldVal, newVal):\n",
    "    return (newVal - oldVal) / oldVal * 100"
   ]
  },
  {
   "cell_type": "markdown",
   "id": "f90180d1",
   "metadata": {},
   "source": [
    "### Function to convert a string with brackets and commas to a float"
   ]
  },
  {
   "cell_type": "code",
   "execution_count": 4,
   "id": "d4cc7626",
   "metadata": {},
   "outputs": [],
   "source": [
    "# Return float\n",
    "\n",
    "def becomeNumber(string):\n",
    "    thingsToReplace = [',', '(', ')', '-', ' ']\n",
    "    \n",
    "    for i in thingsToReplace:\n",
    "        string = string.replace(i, '')\n",
    "        \n",
    "    return float(string)"
   ]
  },
  {
   "cell_type": "markdown",
   "id": "388e80c0",
   "metadata": {},
   "source": [
    "Idea is to:\n",
    "- Convert the pdf page into string for further processing\n",
    "- From the string, we identify the keywords\n",
    "- Get the values associated with the keywords (mindful of the years, whether the new comes first or the old)\n",
    "- Calculate the change and %\n",
    "- Come out with the MD&A Draft text"
   ]
  },
  {
   "cell_type": "code",
   "execution_count": 5,
   "id": "81b2c445",
   "metadata": {},
   "outputs": [
    {
     "name": "stdout",
     "output_type": "stream",
     "text": [
      "Please enter the keyword to look for (Not caps-sensitive) short-term\n"
     ]
    }
   ],
   "source": [
    "keyWord = input(\"Please enter the keyword to look for (Not caps-sensitive) \").lower()"
   ]
  },
  {
   "cell_type": "markdown",
   "id": "857e5382",
   "metadata": {},
   "source": [
    "Still need to do:\n",
    "- Debug the error\n",
    "- If mulitple rows starts with the same keyWord, then it would be wrong\n",
    "- Following example is assuming oldVal is the most right value, and the newVal is the one left of it, possible like page 9 of sample1.pdf, where there are 4 values instead\n",
    "    - Likewise for the year detection in the heading\n",
    "- Able to decide the time period based on the heading\n",
    "    - To see which values come first\n",
    "    - And also the criteria of \"three period-to-period comparisons\"\n",
    "    - If the headings are in different pages, then it wouldn't work\n",
    "        - Search the page before for the headings\n",
    "- Able to get the 'units' of the money in the financial statements (is it in millions?)\n",
    "    - In the sample1.pdf case, it would be '000 for staff costs\n",
    "- Get the reasons of the change\n",
    "- If for example is transportation expenses, do we need to auto find expenses such as \"bus\", \"grab\", etc?\n",
    "- To be able to get out all the rows available by checking whether got valid value anot\n",
    "- See whether can detect the currency anot\n",
    "- Try for the different format as well\n",
    "- Include the increase/decrease in sum as well in the % change"
   ]
  },
  {
   "cell_type": "code",
   "execution_count": 6,
   "id": "935a60e8",
   "metadata": {
    "scrolled": false
   },
   "outputs": [
    {
     "name": "stdout",
     "output_type": "stream",
     "text": [
      "Our short-term expenses increased by 21.23% to S$[78310091.0] in the [2020], from S$[64595361.0] in the [2019], as a result of [company to provide reason].\n",
      "Our short-term expenses decreased by 29.56% to S$[2335630.0] in the [2020], from S$[3315848.0] in the [2019], as a result of [company to provide reason].\n"
     ]
    },
    {
     "ename": "ValueError",
     "evalue": "could not convert string to float: 'value'",
     "output_type": "error",
     "traceback": [
      "\u001b[0;31m---------------------------------------------------------------------------\u001b[0m",
      "\u001b[0;31mValueError\u001b[0m                                Traceback (most recent call last)",
      "Input \u001b[0;32mIn [6]\u001b[0m, in \u001b[0;36m<cell line: 17>\u001b[0;34m()\u001b[0m\n\u001b[1;32m     96\u001b[0m     change \u001b[38;5;241m=\u001b[39m calculateChange(oldVal, newVal)\n\u001b[1;32m     98\u001b[0m \u001b[38;5;28;01melif\u001b[39;00m (rightNew \u001b[38;5;241m==\u001b[39m \u001b[38;5;241m-\u001b[39m\u001b[38;5;241m1\u001b[39m):\n\u001b[0;32m---> 99\u001b[0m     oldVal \u001b[38;5;241m=\u001b[39m \u001b[43mbecomeNumber\u001b[49m\u001b[43m(\u001b[49m\u001b[43mrow\u001b[49m\u001b[38;5;241;43m.\u001b[39;49m\u001b[43msplit\u001b[49m\u001b[43m(\u001b[49m\u001b[43m)\u001b[49m\u001b[43m[\u001b[49m\u001b[38;5;241;43m-\u001b[39;49m\u001b[38;5;241;43m1\u001b[39;49m\u001b[43m]\u001b[49m\u001b[43m)\u001b[49m\n\u001b[1;32m    100\u001b[0m     newVal \u001b[38;5;241m=\u001b[39m becomeNumber(row\u001b[38;5;241m.\u001b[39msplit()[\u001b[38;5;241m-\u001b[39m\u001b[38;5;241m2\u001b[39m])\n\u001b[1;32m    101\u001b[0m     change \u001b[38;5;241m=\u001b[39m calculateChange(oldVal, newVal)\n",
      "Input \u001b[0;32mIn [4]\u001b[0m, in \u001b[0;36mbecomeNumber\u001b[0;34m(string)\u001b[0m\n\u001b[1;32m      6\u001b[0m \u001b[38;5;28;01mfor\u001b[39;00m i \u001b[38;5;129;01min\u001b[39;00m thingsToReplace:\n\u001b[1;32m      7\u001b[0m     string \u001b[38;5;241m=\u001b[39m string\u001b[38;5;241m.\u001b[39mreplace(i, \u001b[38;5;124m'\u001b[39m\u001b[38;5;124m'\u001b[39m)\n\u001b[0;32m----> 9\u001b[0m \u001b[38;5;28;01mreturn\u001b[39;00m \u001b[38;5;28;43mfloat\u001b[39;49m\u001b[43m(\u001b[49m\u001b[43mstring\u001b[49m\u001b[43m)\u001b[49m\n",
      "\u001b[0;31mValueError\u001b[0m: could not convert string to float: 'value'"
     ]
    }
   ],
   "source": [
    "# Variables to keep track how to determine left values are the new one or the old one\n",
    "\n",
    "found = 0     # If found = 1, means found the keyWord in PDF, if found = 0, means cannot find keyWord in PDF, need key in a new keyWord again\n",
    "sameMonth = 1     # If sameMonth = 1, means need to compare by years for the time period\n",
    "sameYear = 1     # If sameYear = 1, means need to compare by months for the time period\n",
    "rightNew = 0     # rightNew = 1 means right value is the NEW one, rightNew = -1 means right value is the OLD one\n",
    "\n",
    "# Other variables\n",
    "\n",
    "possibleYears = range(1900, date.today().year + 1)\n",
    "# The months are listed backwards and in small letters so it's not caps-sensitive, and can compare in terms of index values to see which is earlier\n",
    "possibleMonths = [\"december\", \"november\", \"october\", \"september\", \"august\", \"july\", \"june\", \"may\", \"april\", \"march\", \"february\", \"january\"]\n",
    "months = []     # months will contain the months of that particular page where keyWord is found\n",
    "years = []     # years will contain the heading of the years of that particular page where keyWord is found, [-1] is the oldYear, [-2] is the newYear\n",
    "\n",
    "# Iterating all pages of PDF to find keyWord\n",
    "for x in range(reader.numPages):\n",
    "    pageData = pdf.pages[x]\n",
    "    text = pageData.extract_text().lower()\n",
    "#     print(text)\n",
    "    \n",
    "    # Checking if the keyword is found in a particular page\n",
    "    for row in text.split('\\n'):\n",
    "        if row.startswith(keyWord):\n",
    "            found = 1\n",
    "            \n",
    "#             # Since the values of a financial statement is always the last few values\n",
    "#             # Following example is assuming oldVal is the most right value, and the newVal is the one left of it\n",
    "#             # Possible like page 9 of sample1.pdf, where there are 4 values instead\n",
    "#             oldVal = becomeNumber(row.split()[-1])\n",
    "#             newVal = becomeNumber(row.split()[-2])\n",
    "#             change = calculateChange(oldVal, newVal)\n",
    "            \n",
    "            # Need to get the heading as well to know which values belongs to which year / month\n",
    "            for word in text.split():\n",
    "                \n",
    "                # Trying to get the months\n",
    "                if word in possibleMonths: #and word not in months:\n",
    "                    months.append(word)\n",
    "                \n",
    "                # To determine which month is the earlier one, assuming there are only 2 months value\n",
    "                if (len(months) >= 2):\n",
    "                    \n",
    "                    # Case 1, when the most right values are the OLD values\n",
    "                    if (possibleMonths.index(months[-1]) > possibleMonths.index(months[-2])):\n",
    "                        oldMonth = months[-1]\n",
    "                        newMonth = months[-2]\n",
    "                        sameMonth = 0\n",
    "                        rightNew = -1\n",
    "                    \n",
    "                    # Case 2, when the most right values are the NEW values\n",
    "                    elif (possibleMonths.index(months[-1]) < possibleMonths.index(months[-2])):\n",
    "                        oldMonth = months[-2]\n",
    "                        newMonth = months[-1]\n",
    "                        sameMonth = 0\n",
    "                        rightNew = 1\n",
    "                \n",
    "                    # Case 3, when the months are the same, need to compare the years\n",
    "                    else:\n",
    "                        sameMonth = 1\n",
    "                        rightNew = 0\n",
    "                \n",
    "                # Trying to get the years\n",
    "                try:\n",
    "                    if int(word) in possibleYears: #and int(word) not in years:\n",
    "                        years.append(int(word))\n",
    "                except (ValueError):\n",
    "                    continue\n",
    "                    \n",
    "            # Comparing the years\n",
    "            \n",
    "            # Case 1: right values are the NEW values\n",
    "            if (years[-1] > years[-2]):\n",
    "                newYear = years[-1]\n",
    "                oldYear = years[-2]\n",
    "                rightNew = 1\n",
    "                sameYear = 0\n",
    "            \n",
    "            # Case 2: right values are the OLD values\n",
    "            elif (years[-1] < years[-2]):\n",
    "                oldYear = years[-1]\n",
    "                newYear = years[-2]\n",
    "                rightNew = -1\n",
    "                sameYear = 0\n",
    "            \n",
    "            # Case 3: both years are the same, need to compare the months\n",
    "            else:\n",
    "                sameYear = 1\n",
    "            \n",
    "            # Once we know which value is the NEW one, either right or left, based on the variable rightNew\n",
    "            \n",
    "            # rightNew == 1 means right value is the NEW one\n",
    "            if (rightNew == 1):\n",
    "                newVal = becomeNumber(row.split()[-1])\n",
    "                oldVal = becomeNumber(row.split()[-2])\n",
    "                change = calculateChange(oldVal, newVal)\n",
    "                \n",
    "            elif (rightNew == -1):\n",
    "                oldVal = becomeNumber(row.split()[-1])\n",
    "                newVal = becomeNumber(row.split()[-2])\n",
    "                change = calculateChange(oldVal, newVal)\n",
    "            \n",
    "            # Printing out the drafting respectively based on the different cases\n",
    "            # [] means need to fill in\n",
    "            \n",
    "            if (change < 0):\n",
    "                if (sameYear == 0 and sameMonth == 0):\n",
    "                    print(\"Our {} expenses decreased by {:.2f}% to S$[{}] in the [{}{}], from S$[{}] in the [{}{}], as a result of [company to provide reason].\".format(keyWord, abs(change), newVal, newMonth, newYear, oldVal, oldMonth, oldYear))\n",
    "                elif (sameYear == 1):\n",
    "                    print(\"Our {} expenses decreased by {:.2f}% to S$[{}] in the [{}], from S$[{}] in the [{}], as a result of [company to provide reason].\".format(keyWord, abs(change), newVal, newMonth, oldVal, oldMonth))\n",
    "                elif (sameMonth == 1):\n",
    "                    print(\"Our {} expenses decreased by {:.2f}% to S$[{}] in the [{}], from S$[{}] in the [{}], as a result of [company to provide reason].\".format(keyWord, abs(change), newVal, newYear, oldVal, oldYear))\n",
    "            \n",
    "            elif (change > 0):\n",
    "                if (sameYear == 0 and sameMonth == 0):\n",
    "                    print(\"Our {} expenses increased by {:.2f}% to S$[{}] in the [{}{}], from S$[{}] in the [{}{}], as a result of [company to provide reason].\".format(keyWord, abs(change), newVal, newMonth, newYear, oldVal, oldMonth, oldYear))\n",
    "                elif (sameYear == 1):\n",
    "                    print(\"Our {} expenses increased by {:.2f}% to S$[{}] in the [{}], from S$[{}] in the [{}], as a result of [company to provide reason].\".format(keyWord, abs(change), newVal, newMonth, oldVal, oldMonth))\n",
    "                elif (sameMonth == 1):\n",
    "                    print(\"Our {} expenses increased by {:.2f}% to S$[{}] in the [{}], from S$[{}] in the [{}], as a result of [company to provide reason].\".format(keyWord, abs(change), newVal, newYear, oldVal, oldYear))\n",
    "                    \n",
    "            else:\n",
    "                if (sameYear == 0 and sameMonth == 0):\n",
    "                    print(\"Our {} expenses stayed the same to S$[{}] in the [{}{}], from S$[{}] in the [{}{}], as a result of [company to provide reason].\".format(keyWord, newVal, newMonth, newYear, oldVal, oldMonth, oldYear))\n",
    "                elif (sameYear == 1):\n",
    "                    print(\"Our {} expenses stayed the same to S$[{}] in the [{}], from S$[{}] in the [{}], as a result of [company to provide reason].\".format(keyWord, newVal, newMonth, oldVal, oldMonth))\n",
    "                elif (sameMonth == 1):\n",
    "                    print(\"Our {} expenses stayed the same to S$[{}] in the [{}], from S$[{}] in the [{}], as a result of [company to provide reason].\".format(keyWord, newVal, newYear, oldVal, oldYear))\n",
    "            \n",
    "if (found == 0):\n",
    "    print(\"Please double check the keyword to look for and try again\")\n",
    "    print(quit)\n",
    "    quit()\n",
    "    \n",
    "# # For error checking\n",
    "# print(\"months =\")\n",
    "# print(months)\n",
    "# print(\"years =\")\n",
    "# print(years)\n",
    "# print(\"found = {}, sameMonth = {}, sameYear = {}, rightNew = {}\".format(found, sameMonth, sameYear, rightNew))"
   ]
  }
 ],
 "metadata": {
  "kernelspec": {
   "display_name": "Python 3 (ipykernel)",
   "language": "python",
   "name": "python3"
  },
  "language_info": {
   "codemirror_mode": {
    "name": "ipython",
    "version": 3
   },
   "file_extension": ".py",
   "mimetype": "text/x-python",
   "name": "python",
   "nbconvert_exporter": "python",
   "pygments_lexer": "ipython3",
   "version": "3.8.2"
  }
 },
 "nbformat": 4,
 "nbformat_minor": 5
}
